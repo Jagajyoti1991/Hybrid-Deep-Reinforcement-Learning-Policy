{
 "cells": [
  {
   "cell_type": "code",
   "execution_count": 1,
   "metadata": {
    "id": "iRirIDfIY1Ga"
   },
   "outputs": [],
   "source": [
    "import gym\n",
    "import tensorflow as tf\n",
    "from tensorflow.keras import layers\n",
    "import numpy as np\n",
    "import matplotlib.pyplot as plt"
   ]
  },
  {
   "cell_type": "code",
   "execution_count": 2,
   "metadata": {
    "id": "n6_XyfEEVhmM"
   },
   "outputs": [],
   "source": [
    "from gym import Env\n",
    "from gym.spaces import Discrete, Box\n",
    "import numpy as np\n",
    "import random\n",
    "import os\n",
    "import numpy as np \n",
    "from numpy import abs as Abs\n",
    "from numpy import sign as sign\n",
    "from numpy import sqrt,pi,array\n",
    "\n",
    "from control.matlab import *  # MATLAB-like functions\n",
    "import control as ct\n",
    "# from scipy import signal\n",
    "from scipy.signal import cont2discrete, lti, dlti, dstep\n",
    " \n",
    "import matplotlib\n",
    "import matplotlib.pyplot as plt\n",
    " \n",
    "import tensorflow as tf\n",
    "from gym import Env\n",
    "from gym.spaces import Discrete, Box\n",
    " \n",
    "import random\n",
    " \n",
    "from tensorflow.keras.models import Sequential\n",
    "from tensorflow.keras.layers import Dense, Flatten\n",
    "from tensorflow.keras.optimizers import Adam"
   ]
  },
  {
   "cell_type": "code",
   "execution_count": 3,
   "metadata": {},
   "outputs": [],
   "source": [
    "n = 8\n",
    "r = 3\n",
    "M = np.load('M.npy')\n",
    "C = np.load('C.npy')\n",
    "K = np.load('K.npy')\n",
    "# Ad = np.load('Ad.npy')\n",
    "# Bd = np.load('Bd.npy')\n",
    "# Ed = np.load('Ed.npy')\n",
    "# Cd = np.load('Cd.npy')\n",
    "# Dd = np.load('Dd.npy')"
   ]
  },
  {
   "cell_type": "code",
   "execution_count": 4,
   "metadata": {},
   "outputs": [],
   "source": [
    "# State space representation\n",
    "I = -1*np.ones([n,1])  # Influence vector\n",
    "gamma = np.array([[ 1.,  0.,  0.],\n",
    "                  [ 0.,  0.,  0.],\n",
    "                  [ 0., -1.,  0.],\n",
    "                  [ 0.,  1.,  0.],\n",
    "                  [ 0.,  0., -1.],\n",
    "                  [ 0.,  0.,  1.],\n",
    "                  [ 0.,  0.,  0.],\n",
    "                  [ 0.,  0.,  0.]])\n",
    "A1 = np.zeros([n,n])\n",
    "A2 = np.identity(n)\n",
    "A3 = -1*np.linalg.inv(M) @ K\n",
    "A4 = -1*np.linalg.inv(M) @ C\n",
    "A = np.zeros([2*n,2*n])\n",
    "A[0:n,n:2*n] = A2\n",
    "A[n:2*n,0:n] = A3\n",
    "A[n:2*n,n:2*n] = A4\n",
    "# = np.ones((n,n), dtype=int)\n",
    "# print(A)  \n",
    "B = np.zeros((2*n,r))\n",
    "B[n:2*n,0:r] = np.linalg.inv(M) @ gamma   # Input matrix\n",
    "# print(B)\n",
    "E = np.zeros((2*n,1))\n",
    "E[n:2*n] = I   # Input matrix\n",
    "# print(E)\n",
    "# Output matrix (Disp + Accel)\n",
    "Cd = np.zeros([n+r, 2*n])\n",
    "Cd[0:n, 0:n] = A3;\n",
    "Cd[0:n, n:2*n] = A4;\n",
    "Cd[n,0:2] =  np.array([[1, 1]])\n",
    "Cd[n+1,2:5] =  np.array([[1, 1, 1]])\n",
    "Cd[n+2,5:8] =  np.array([[1, 1, 1]])\n",
    "# print(Cd)\n",
    "Dd = np.zeros([n+r, r])\n",
    "Dd[0:n,0:r] = np.linalg.inv(M) @ gamma   # Input matrix\n",
    "# print(Dd)\n",
    "Ed1 = np.zeros([n+r,1])\n",
    "# print(Ed)\n",
    "# Cd = np.array([[1, 0, 0, 0]])\n",
    "# Dd = np.array([[0]]).transpose()  \n",
    "# Ed = np.array([[0]]).transpose()\n",
    "# del M, m, Ks, Cs, Kt"
   ]
  },
  {
   "cell_type": "code",
   "execution_count": 5,
   "metadata": {},
   "outputs": [],
   "source": [
    "np.save('A1.npy', A)\n",
    "np.save('B1.npy', B)\n",
    "np.save('E1.npy', E)\n",
    "np.save('Cd1.npy', Cd)\n",
    "np.save('Dd1.npy', Dd)\n",
    "np.save('Ed1.npy', Ed1)"
   ]
  },
  {
   "cell_type": "code",
   "execution_count": 6,
   "metadata": {},
   "outputs": [
    {
     "name": "stdout",
     "output_type": "stream",
     "text": [
      "System is controllable\n"
     ]
    }
   ],
   "source": [
    "# Discrete System\n",
    "d_system = cont2discrete((A, np.concatenate((B, E), axis=1), Cd, np.concatenate((Dd, Ed1), axis=1)), 0.02, method='zoh')\n",
    "Ad = d_system[0]\n",
    "Bd1 = d_system[1]\n",
    "Bd = Bd1[:,0:3]\n",
    "Ed = Bd1[:,3:4]\n",
    "from numpy.linalg import matrix_rank\n",
    "ko = matrix_rank(ctrb(Ad, Bd))\n",
    "if ko == len(Ad):\n",
    "  print(\"System is controllable\")\n",
    "else:\n",
    "  print(\"System is uncontrollable\")\n",
    "del d_system, Bd1, ko"
   ]
  },
  {
   "cell_type": "code",
   "execution_count": 7,
   "metadata": {},
   "outputs": [],
   "source": [
    "# Weighting matrices\n",
    "Q = np.identity(2*n)\n",
    "# Q = np.zeros([2*n, 2*n])\n",
    "# Q[0:n, 0:n] = K\n",
    "# Q[n:2*n, n:2*n] = M\n",
    "(i,j) = Bd.shape\n",
    "R =  (10**(-14))*np.identity(j)\n",
    "del i, j\n",
    "Kp, Sp, ep = ct.dlqr(Ad, Bd, Q, R)"
   ]
  },
  {
   "cell_type": "code",
   "execution_count": 8,
   "metadata": {},
   "outputs": [
    {
     "name": "stderr",
     "output_type": "stream",
     "text": [
      "C:\\Users\\91735\\anaconda3\\envs\\tf-gpu-new\\lib\\site-packages\\gym\\spaces\\box.py:127: UserWarning: \u001b[33mWARN: Box bound precision lowered by casting to float32\u001b[0m\n",
      "  logger.warn(f\"Box bound precision lowered by casting to {self.dtype}\")\n"
     ]
    }
   ],
   "source": [
    "class MrDamperEnv(Env):\n",
    "\n",
    "    def __init__(self):\n",
    "    \n",
    "      self.n = 8    # Number of storey\n",
    "      self.r = 3    # no of MR dampers\n",
    "      # 1000kN MR damper\n",
    "      self.vmax = 10\n",
    "      self.vmin = 0\n",
    "      self.gamma = 141\n",
    "      self.beta = 141\n",
    "      self.Ad = 2074.5\n",
    "      self.nd = 2\n",
    "      self.eta = 100\n",
    "      self.alpha0 = 26.0*10**3\n",
    "      self.alpha1 = 29.1*10**3\n",
    "      self.c01 = 105.4*10**3\n",
    "      self.c02 = 131.6*10**3\n",
    "      self.k01 = 0\n",
    "      self.k02 = 0\n",
    "      self.umin = 0.02  \n",
    "      self.umax = 1 \n",
    "\n",
    "      \n",
    "      # Plant matrices (Continous)\n",
    "      self.A = np.load('A1.npy')\n",
    "      self.B = np.load('B1.npy')\n",
    "      self.E = np.load('E1.npy')\n",
    "      self.Cd = np.load('Cd1.npy')\n",
    "      self.Dd = np.load('Dd1.npy')\n",
    "      self.Ed1 = np.load('Ed1.npy')\n",
    "      self.M = np.load('M.npy')\n",
    "      self.C = np.load('C.npy')\n",
    "      self.K = np.load('K.npy')\n",
    "      self.An = self.A\n",
    "      self.Cdn = self.Cd\n",
    "        \n",
    "      # Plant matrices (discrete) \n",
    "      d_system = cont2discrete((self.A, np.concatenate((self.B, self.E), axis=1), self.Cd, np.concatenate((self.Dd, self.Ed1), axis=1)), 0.02, method='zoh')\n",
    "      self.Ad = d_system[0]\n",
    "      Bd1 = d_system[1]\n",
    "      self.Bd = Bd1[:,0:3]\n",
    "      self.Ed = Bd1[:,3:4]\n",
    "          \n",
    "      # Weighting matrices\n",
    "      self.Q = np.identity(2*self.n)\n",
    "      #self.Q = np.zeros([2*self.n, 2*self.n])\n",
    "      #self.Q[0:self.n, 0:self.n] = self.K\n",
    "      #self.Q[self.n:2*self.n, self.n:2*self.n] = self.M\n",
    "      (i,j) = self.B.shape\n",
    "      self.R =  (10**(-14))*np.identity(j)\n",
    "      del i, j\n",
    "\n",
    "      # Output matrix (Disp + Accel)\n",
    "      #self.Cd = np.array([[1, 1, 0, 0], [-self.Ks/self.M, self.Ks/self.M, 0, 0], [self.Ks/self.m, -1*(self.Ks+self.Kt)/self.m, 0, 0]])\n",
    "      #self.Dd = np.array([[0, 1/self.M, -1/self.m]]).T\n",
    "      #self.Ed = np.array([[0, 0, 0]]).T\n",
    "    \n",
    "              \n",
    "      # Input per episode\n",
    "      GM = np.array([1, 2, 7, 8, 9, 10, 11, 12, 13, 14])\n",
    "      a = np.random.randint(low=1,high=10)\n",
    "\n",
    "      if a < 10:\n",
    "        f = \"la\"+\"%02d\" % GM[a]  + \".dat\"\n",
    "      else:\n",
    "        f = \"la\"+\"%02d\" % GM[a]  + \".dat\"\n",
    "      #print(f)\n",
    "      self.xacc = (np.array(np.loadtxt(f)).flatten())/100  # Convert cm/s2 to m/s2\n",
    "      #print(c)\n",
    "      \n",
    "      # Time series for ground motion\n",
    "      GMdt = np.loadtxt('GMdt.txt', unpack = True)\n",
    "      #print(len(GMdt))\n",
    "      self.dt = GMdt[GM[a]-1]\n",
    "      #print(self.dt)\n",
    "      tend = self.dt*len(self.xacc)\n",
    "      self.t = np.arange(0, tend, self.dt)\n",
    "      nt = self.t.size\n",
    "      #plt.figure()\n",
    "      #plt.plot(self.t, self.xacc)\n",
    "      del a, f, GMdt, tend   \n",
    "      \n",
    "          \n",
    "      # Initialize variables\n",
    "      self.time_current = 0\n",
    "      self.state = np.zeros([nt, 2*self.n]) # states (ys,ysdot,yt,ytdot)\n",
    "      self.U = np.zeros([nt, self.r]) # Control force (action)\n",
    "      self.Re = np.zeros([nt, 1]) # Reward\n",
    "      self.J_val = 0\n",
    "      self.action_space = Box(low=np.array([-6e6, -6e6, -6e6]), high=np.array([6e6, 6e6, 6e6]),shape=(3,))\n",
    "      self.observation_space = Box(low=np.array([-100000, -100000, -100000, -100000, -100000, -100000, -100000, -100000, -100000, -100000, -100000, -100000, -100000, -100000, -100000, -100000]), high=np.array([100000, 100000, 100000, 100000, 100000, 100000, 100000, 100000, 100000, 100000, 100000, 100000, 100000, 100000, 100000, 100000]) )\n",
    "      self.statem = np.zeros([1, 2*self.n])\n",
    "      self.K = np.zeros([2*self.n, 2*self.n])\n",
    "      self.Volt = np.zeros([nt, 1])\n",
    "      self.hr = []\n",
    "\n",
    "    def step(self, action):\n",
    "          tim = self.time_current  # current time (size 1)\n",
    "          \n",
    "          # System model in discrete time\n",
    "          Q = self.Q\n",
    "          R = self.R  \n",
    "          n = self.n\n",
    "          r = self.r\n",
    "          M = self.M \n",
    "          dt = self.dt\n",
    "          umin = self.umin  \n",
    "          umax = self.umax\n",
    "            \n",
    "          Kp, Sp, ep = ct.dlqr(self.Ad, self.Bd, self.Q, self.R)\n",
    "          Bj = self.Bd@(-Kp)\n",
    "            \n",
    "          # Control action\n",
    "          K = self.K\n",
    "          #print(K)\n",
    "          action1 = np.squeeze(action)\n",
    "          state = np.array([self.state[tim, :]]).T\n",
    "          val = ((state.T)@K)@(state)\n",
    "        \n",
    "          if(val[0] >= 0):\n",
    "                action2 = (umin*(-Kp@state)) + np.array([action1]).T\n",
    "                self.U[tim, :] = np.squeeze(action2.T)    # control force\n",
    "                self.Volt[tim, :] = umin\n",
    "          else:\n",
    "                action2 = (umax*(-Kp@state)) + np.array([action1]).T\n",
    "                self.U[tim, :] = np.squeeze(action2.T)    # control force\n",
    "                self.Volt[tim, :] = umax\n",
    "          del action1, action2\n",
    "          action1 = np.array([self.U[tim, :]]).T\n",
    "          #print(action1)\n",
    "          #print(action)\n",
    "        \n",
    "          self.J = 0\n",
    "          z = 10 + tim\n",
    "          i = 0\n",
    "          for tkk in range(tim, z):\n",
    "            h = self.xacc[tkk] \n",
    "            self.hr.append(h)\n",
    "            xn = state\n",
    "            #print(xn)\n",
    "            K1 = 3444*10**5\n",
    "            Dy = 0.012\n",
    "            Fy = K1*Dy\n",
    "            # Uncontrolled\n",
    "            if(xn[0,0]>=Dy):\n",
    "\n",
    "                kk = Fy/xn[0,0]\n",
    "                #print(xpn[tkk,0,i], kk)\n",
    "                Kn = 2*np.diag(np.full(n,kk))\n",
    "                Kn[n-1,n-1] = kk\n",
    "                for x in range(n-1):\n",
    "                  Kn[x,x+1] = -kk\n",
    "                  Kn[x+1,x] = -kk\n",
    "                A3n = -1*np.linalg.inv(M) @ Kn\n",
    "                self.An[n:2*n,0:n] = A3n\n",
    "                self.Cdn[0:n, 0:n] = A3n\n",
    "                d_system_n = cont2discrete((self.An, np.concatenate((self.B, self.E), axis=1), self.Cdn, np.concatenate((self.Dd, self.Ed1), axis=1)), dt, method='zoh')\n",
    "                Adn = d_system_n[0]\n",
    "                Bd1 = d_system_n[1]\n",
    "                Bdn = Bd1[:,0:3]\n",
    "                Edn = Bd1[:,3:4]\n",
    "                del kk, Kn, A3n\n",
    "                # Control Results\n",
    "                yn1 = (self.Cdn @ xn) + (self.Dd @ action1)\n",
    "                xn1 = (Adn @ xn) + (Bdn @ action1) + (Edn * h)\n",
    "                del Adn, Bdn, Edn\n",
    "            else:\n",
    "                yn1 = (self.Cd @ xn) + (self.Dd @ action1)\n",
    "                xn1 = (self.Ad @ xn) + (self.Bd @ action1) + (self.Ed * h)    \n",
    "                state = xn1\n",
    "\n",
    "            self.En = 0.1*((state.T@Q)@state)\n",
    "            #print(self.E)\n",
    "            self.J = self.J + dt*(0.9**i)*(self.En)\n",
    "            \n",
    "            if(i==0):\n",
    "              self.statem = state.T\n",
    "              self.J_val += self.J \n",
    "            i = i+1\n",
    "          #print(\"kkk \",self.J_val)\n",
    "          #print(self.J) \n",
    "          done = False\n",
    "          #print(f1)\n",
    "          info = {}   \n",
    "          reward = -1*self.J\n",
    "          self.Re[tim+1, :] = reward\n",
    "          self.state[tim+1, :] = self.statem\n",
    "\n",
    "          return self.statem[0], reward, done, info\n",
    "\n",
    "    def reset(self):\n",
    "    \n",
    "      self.n = 8    # Number of storey\n",
    "      self.r = 3    # no of MR dampers\n",
    "      # 1000kN MR damper\n",
    "      self.vmax = 10\n",
    "      self.vmin = 0\n",
    "      self.gamma = 141\n",
    "      self.beta = 141\n",
    "      self.Ad = 2074.5\n",
    "      self.nd = 2\n",
    "      self.eta = 100\n",
    "      self.alpha0 = 26.0*10**3\n",
    "      self.alpha1 = 29.1*10**3\n",
    "      self.c01 = 105.4*10**3\n",
    "      self.c02 = 131.6*10**3\n",
    "      self.k01 = 0\n",
    "      self.k02 = 0\n",
    "      self.umin = 0.02  \n",
    "      self.umax = 1 \n",
    "\n",
    "      \n",
    "      # Plant matrices (Continous)\n",
    "      self.A = np.load('A1.npy')\n",
    "      self.B = np.load('B1.npy')\n",
    "      self.E = np.load('E1.npy')\n",
    "      self.Cd = np.load('Cd1.npy')\n",
    "      self.Dd = np.load('Dd1.npy')\n",
    "      self.Ed1 = np.load('Ed1.npy')\n",
    "      self.M = np.load('M.npy')\n",
    "      self.C = np.load('C.npy')\n",
    "      self.K = np.load('K.npy')\n",
    "      self.An = self.A\n",
    "      self.Cdn = self.Cd\n",
    "        \n",
    "      # Plant matrices (discrete) \n",
    "      d_system = cont2discrete((self.A, np.concatenate((self.B, self.E), axis=1), self.Cd, np.concatenate((self.Dd, self.Ed1), axis=1)), 0.02, method='zoh')\n",
    "      self.Ad = d_system[0]\n",
    "      Bd1 = d_system[1]\n",
    "      self.Bd = Bd1[:,0:3]\n",
    "      self.Ed = Bd1[:,3:4]\n",
    "          \n",
    "      # Weighting matrices\n",
    "      self.Q = np.identity(2*self.n)\n",
    "      #self.Q = np.zeros([2*self.n, 2*self.n])\n",
    "      #self.Q[0:self.n, 0:self.n] = self.K\n",
    "      #self.Q[self.n:2*self.n, self.n:2*self.n] = self.M\n",
    "      (i,j) = self.B.shape\n",
    "      self.R =  (10**(-14))*np.identity(j)\n",
    "      del i, j\n",
    "\n",
    "      # Output matrix (Disp + Accel)\n",
    "      #self.Cd = np.array([[1, 1, 0, 0], [-self.Ks/self.M, self.Ks/self.M, 0, 0], [self.Ks/self.m, -1*(self.Ks+self.Kt)/self.m, 0, 0]])\n",
    "      #self.Dd = np.array([[0, 1/self.M, -1/self.m]]).T\n",
    "      #self.Ed = np.array([[0, 0, 0]]).T\n",
    "    \n",
    "              \n",
    "      # Input per episode\n",
    "      GM = np.array([1, 2, 7, 8, 9, 10, 11, 12, 13, 14])\n",
    "      a = np.random.randint(low=1,high=10)\n",
    "\n",
    "      if a < 10:\n",
    "        f = \"la\"+\"%02d\" % GM[a]  + \".dat\"\n",
    "      else:\n",
    "        f = \"la\"+\"%02d\" % GM[a]  + \".dat\"\n",
    "      #print(f)\n",
    "      self.xacc = (np.array(np.loadtxt(f)).flatten())/100  # Convert cm/s2 to m/s2\n",
    "      #print(c)\n",
    "      \n",
    "      # Time series for ground motion\n",
    "      GMdt = np.loadtxt('GMdt.txt', unpack = True)\n",
    "      #print(len(GMdt))\n",
    "      self.dt = GMdt[GM[a]-1]\n",
    "      #print(self.dt)\n",
    "      tend = self.dt*len(self.xacc)\n",
    "      self.t = np.arange(0, tend, self.dt)\n",
    "      nt = self.t.size\n",
    "      #plt.figure()\n",
    "      #plt.plot(self.t, self.xacc)\n",
    "      del a, f, GMdt, tend   \n",
    "      \n",
    "          \n",
    "      # Initialize variables\n",
    "      self.time_current = 0\n",
    "      self.state = np.zeros([nt, 2*self.n]) # states (ys,ysdot,yt,ytdot)\n",
    "      self.U = np.zeros([nt, self.r]) # Control force (action)\n",
    "      self.Re = np.zeros([nt, 1]) # Reward\n",
    "      self.J_val = 0\n",
    "      self.action_space = Box(low=np.array([-6e6, -6e6, -6e6]), high=np.array([6e6, 6e6, 6e6]),shape=(3,))\n",
    "      self.observation_space = Box(low=np.array([-100000, -100000, -100000, -100000, -100000, -100000, -100000, -100000, -100000, -100000, -100000, -100000, -100000, -100000, -100000, -100000]), high=np.array([100000, 100000, 100000, 100000, 100000, 100000, 100000, 100000, 100000, 100000, 100000, 100000, 100000, 100000, 100000, 100000]) )\n",
    "      self.statem = np.zeros([1, 2*self.n])\n",
    "      self.K = np.zeros([2*self.n, 2*self.n])\n",
    "      self.Volt = np.zeros([nt, 1])\n",
    "      self.hr = []\n",
    "\n",
    "      return self.state[0, :]\n",
    "\n",
    "\n",
    "env = MrDamperEnv()"
   ]
  },
  {
   "cell_type": "code",
   "execution_count": 9,
   "metadata": {
    "id": "C_VGi3lNzf8c"
   },
   "outputs": [
    {
     "name": "stdout",
     "output_type": "stream",
     "text": [
      "Size of State Space ->  16\n",
      "Size of Action Space ->  3\n",
      "Max Value of Action ->  6000000.0\n",
      "Min Value of Action ->  -6000000.0\n"
     ]
    }
   ],
   "source": [
    "states = env.observation_space.shape\n",
    "num_states = states[0]\n",
    "print(\"Size of State Space ->  {}\".format(num_states))\n",
    "actions = env.action_space.shape\n",
    "num_actions = actions[0]\n",
    "print(\"Size of Action Space ->  {}\".format(num_actions))\n",
    "upper_bound = env.action_space.high[0]\n",
    "lower_bound = env.action_space.low[0]\n",
    "print(\"Max Value of Action ->  {}\".format(upper_bound))\n",
    "print(\"Min Value of Action ->  {}\".format(lower_bound))"
   ]
  },
  {
   "cell_type": "code",
   "execution_count": 10,
   "metadata": {
    "id": "z-EnQ8sqzf8d",
    "outputId": "42418178-d674-43d7-da36-e75b9ae39c12"
   },
   "outputs": [
    {
     "data": {
      "text/plain": [
       "array([-4297534. ,  4972410.5, -5396658.5], dtype=float32)"
      ]
     },
     "execution_count": 10,
     "metadata": {},
     "output_type": "execute_result"
    }
   ],
   "source": [
    "env.action_space.sample()"
   ]
  },
  {
   "cell_type": "code",
   "execution_count": 11,
   "metadata": {
    "id": "vd3jq9Enzf8d",
    "outputId": "ad999876-ff6b-485c-9c47-2c5628f7fafb"
   },
   "outputs": [
    {
     "data": {
      "text/plain": [
       "array([-81066.586 ,  59774.344 , -83927.38  , -66159.73  , -63481.164 ,\n",
       "       -88396.91  , -86786.96  ,  11938.501 , -13998.425 ,  92785.41  ,\n",
       "        88019.945 ,  -7636.3696,   6276.4346, -38908.523 ,  -6837.0415,\n",
       "       -64763.28  ], dtype=float32)"
      ]
     },
     "execution_count": 11,
     "metadata": {},
     "output_type": "execute_result"
    }
   ],
   "source": [
    "env.observation_space.sample()"
   ]
  },
  {
   "cell_type": "code",
   "execution_count": 12,
   "metadata": {
    "id": "xpn31hvozf8d"
   },
   "outputs": [],
   "source": [
    "# for ep in range(10):\n",
    "#     prev_state = env.reset()\n",
    "#     episodic_reward = 0\n",
    "#     for tim in range(0,len(env.t)-20): \n",
    "#         env.time_current = tim\n",
    "#         tf_prev_state = tf.expand_dims(tf.convert_to_tensor(prev_state), 0)\n",
    "#         action = env.action_space.sample()\n",
    "#         state, reward, done, info = env.step(action)\n",
    "#         episodic_reward += reward\n",
    "#         prev_state = state\n",
    "#         print('tim:{} action:{} reward:{} state:{}'.format(tim, action, reward, state))\n",
    "\n",
    "#     print(env.J_val)"
   ]
  },
  {
   "cell_type": "code",
   "execution_count": 13,
   "metadata": {
    "id": "1vqHrsQwzf8e"
   },
   "outputs": [],
   "source": [
    " class OUActionNoise:\n",
    "    def __init__(self, mean, std_deviation, theta=0.15, dt=1e-2, x_initial=None):\n",
    "        self.theta = theta\n",
    "        self.mean = mean\n",
    "        self.std_dev = std_deviation\n",
    "        self.dt = dt\n",
    "        self.x_initial = x_initial\n",
    "        self.reset()\n",
    "\n",
    "    def __call__(self):\n",
    "         \n",
    "        x = ( self.x_prev+ self.theta * (self.mean - self.x_prev) * self.dt + self.std_dev * np.sqrt(self.dt) * np.random.normal(size=self.mean.shape))\n",
    "        self.x_prev = x\n",
    "        return x\n",
    "\n",
    "    def reset(self):\n",
    "        if self.x_initial is not None:\n",
    "            self.x_prev = self.x_initial\n",
    "        else:\n",
    "            self.x_prev = np.zeros_like(self.mean)"
   ]
  },
  {
   "cell_type": "code",
   "execution_count": 14,
   "metadata": {
    "id": "ip5HRlpgzf8e"
   },
   "outputs": [],
   "source": [
    " class Buffer:\n",
    "    def __init__(self, buffer_capacity=100000, batch_size=64):\n",
    "       \n",
    "        self.buffer_capacity = buffer_capacity\n",
    "        self.batch_size = batch_size\n",
    "        self.buffer_counter = 0\n",
    "        self.state_buffer = np.zeros((self.buffer_capacity, num_states))\n",
    "        self.action_buffer = np.zeros((self.buffer_capacity, num_actions))\n",
    "        self.reward_buffer = np.zeros((self.buffer_capacity, 1))\n",
    "        self.next_state_buffer = np.zeros((self.buffer_capacity, num_states))\n",
    "\n",
    "    def record(self, obs_tuple):\n",
    "      \n",
    "        index = self.buffer_counter % self.buffer_capacity\n",
    "\n",
    "        self.state_buffer[index] = obs_tuple[0]\n",
    "        self.action_buffer[index] = obs_tuple[1]\n",
    "        self.reward_buffer[index] = obs_tuple[2]\n",
    "        self.next_state_buffer[index] = obs_tuple[3]\n",
    "\n",
    "        self.buffer_counter += 1\n",
    "\n",
    "\n",
    "    @tf.function\n",
    "    def update(\n",
    "        self, state_batch, action_batch, reward_batch, next_state_batch,\n",
    "):\n",
    "        \n",
    "        with tf.GradientTape() as tape:\n",
    "            target_actions = target_actor(next_state_batch, training=True)\n",
    "            y = reward_batch + gamma * target_critic(\n",
    "                [next_state_batch, target_actions], training=True\n",
    "            )\n",
    "            critic_value = critic_model([state_batch, action_batch], training=True)\n",
    "            critic_loss = tf.math.reduce_mean(tf.math.square(y - critic_value))\n",
    "\n",
    "        critic_grad = tape.gradient(critic_loss, critic_model.trainable_variables)\n",
    "        critic_optimizer.apply_gradients(\n",
    "            zip(critic_grad, critic_model.trainable_variables)\n",
    "        )\n",
    "\n",
    "        with tf.GradientTape() as tape:\n",
    "            actions = actor_model(state_batch, training=True)\n",
    "            critic_value = critic_model([state_batch, actions], training=True)\n",
    "            actor_loss = -tf.math.reduce_mean(critic_value)\n",
    "\n",
    "        actor_grad = tape.gradient(actor_loss, actor_model.trainable_variables)\n",
    "        actor_optimizer.apply_gradients(\n",
    "            zip(actor_grad, actor_model.trainable_variables)\n",
    "        )\n",
    "\n",
    "    def learn(self):\n",
    "        \n",
    "        record_range = min(self.buffer_counter, self.buffer_capacity)\n",
    "       \n",
    "        batch_indices = np.random.choice(record_range, self.batch_size)\n",
    "        state_batch = tf.convert_to_tensor(self.state_buffer[batch_indices])\n",
    "        action_batch = tf.convert_to_tensor(self.action_buffer[batch_indices])\n",
    "        reward_batch = tf.convert_to_tensor(self.reward_buffer[batch_indices])\n",
    "        reward_batch = tf.cast(reward_batch, dtype=tf.float32)\n",
    "        next_state_batch = tf.convert_to_tensor(self.next_state_buffer[batch_indices])\n",
    "\n",
    "        self.update(state_batch, action_batch, reward_batch, next_state_batch)\n",
    "\n",
    "\n",
    "@tf.function\n",
    "def update_target(target_weights, weights, tau):\n",
    "    for (a, b) in zip(target_weights, weights):\n",
    "        a.assign(b * tau + a * (1 - tau))"
   ]
  },
  {
   "cell_type": "code",
   "execution_count": 15,
   "metadata": {
    "id": "q1_G5V04zf8e"
   },
   "outputs": [],
   "source": [
    " def get_actor():\n",
    "    last_init = tf.random_uniform_initializer(minval=-0.003, maxval=0.003)\n",
    "    inputs = layers.Input(shape=(num_states,))\n",
    "    out = layers.Dense(256, activation=\"relu\")(inputs)\n",
    "    out = layers.Dense(256, activation=\"relu\")(out)\n",
    "    outputs = layers.Dense(3, activation=\"tanh\", kernel_initializer=last_init)(out)\n",
    "    outputs = outputs * upper_bound\n",
    "    model = tf.keras.Model(inputs, outputs)\n",
    "    return model\n",
    "\n",
    "\n",
    "def get_critic():\n",
    "    # State as input\n",
    "    state_input = layers.Input(shape=(num_states))\n",
    "    state_out = layers.Dense(16, activation=\"relu\")(state_input)\n",
    "    state_out = layers.Dense(32, activation=\"relu\")(state_out)\n",
    "\n",
    "    # Action as input\n",
    "    action_input = layers.Input(shape=(num_actions))\n",
    "    action_out = layers.Dense(32, activation=\"relu\")(action_input)\n",
    "    concat = layers.Concatenate()([state_out, action_out])\n",
    "\n",
    "    out = layers.Dense(256, activation=\"relu\")(concat)\n",
    "    out = layers.Dense(256, activation=\"relu\")(out)\n",
    "    outputs = layers.Dense(3)(out)\n",
    "    model = tf.keras.Model([state_input, action_input], outputs)\n",
    "\n",
    "    return model"
   ]
  },
  {
   "cell_type": "code",
   "execution_count": 16,
   "metadata": {
    "id": "2WlDFeKrzf8f"
   },
   "outputs": [],
   "source": [
    " def policy(state, noise_object):\n",
    "    sampled_actions = tf.squeeze(actor_model(state))\n",
    "    noise = noise_object()\n",
    "    sampled_actions = sampled_actions.numpy() + noise\n",
    "    legal_action = np.clip(sampled_actions, lower_bound, upper_bound)\n",
    "\n",
    "    return [np.squeeze(legal_action)]"
   ]
  },
  {
   "cell_type": "code",
   "execution_count": 22,
   "metadata": {
    "id": "tdgtk_CJzf8f"
   },
   "outputs": [],
   "source": [
    "std_dev = 0.2\n",
    "ou_noise = OUActionNoise(mean=np.zeros(1), std_deviation=float(std_dev) * np.ones(1))\n",
    "\n",
    "actor_model = get_actor()\n",
    "critic_model = get_critic()\n",
    "\n",
    "target_actor = get_actor()\n",
    "target_critic = get_critic()\n",
    "\n",
    "target_actor.set_weights(actor_model.get_weights())\n",
    "target_critic.set_weights(critic_model.get_weights())\n",
    "\n",
    "critic_lr = 0.001\n",
    "actor_lr = 0.001\n",
    "\n",
    "critic_optimizer = tf.keras.optimizers.Adam(critic_lr)\n",
    "actor_optimizer = tf.keras.optimizers.Adam(actor_lr)\n",
    "\n",
    "total_episodes = 1000\n",
    "gamma = 0.0001\n",
    "tau = 0.9\n",
    "\n",
    "buffer = Buffer(100000, 64)"
   ]
  },
  {
   "cell_type": "code",
   "execution_count": 23,
   "metadata": {
    "colab": {
     "base_uri": "https://localhost:8080/",
     "height": 130
    },
    "id": "O2AeP4Yezf8f",
    "outputId": "a51bb1d2-7fd7-4a6e-b6f6-6ec60422d735"
   },
   "outputs": [
    {
     "name": "stdout",
     "output_type": "stream",
     "text": [
      "la14.dat\n"
     ]
    },
    {
     "ename": "KeyboardInterrupt",
     "evalue": "",
     "output_type": "error",
     "traceback": [
      "\u001b[1;31m---------------------------------------------------------------------------\u001b[0m",
      "\u001b[1;31mKeyboardInterrupt\u001b[0m                         Traceback (most recent call last)",
      "Cell \u001b[1;32mIn[23], line 40\u001b[0m\n\u001b[0;32m     38\u001b[0m \u001b[38;5;28;01mfor\u001b[39;00m time \u001b[38;5;129;01min\u001b[39;00m \u001b[38;5;28mrange\u001b[39m(\u001b[38;5;241m0\u001b[39m,nt\u001b[38;5;241m-\u001b[39m\u001b[38;5;241m10\u001b[39m):\n\u001b[0;32m     39\u001b[0m     env\u001b[38;5;241m.\u001b[39mtime_current \u001b[38;5;241m=\u001b[39m time\n\u001b[1;32m---> 40\u001b[0m     tf_prev_state \u001b[38;5;241m=\u001b[39m tf\u001b[38;5;241m.\u001b[39mexpand_dims(\u001b[43mtf\u001b[49m\u001b[38;5;241;43m.\u001b[39;49m\u001b[43mconvert_to_tensor\u001b[49m\u001b[43m(\u001b[49m\u001b[43mprev_state\u001b[49m\u001b[43m)\u001b[49m, \u001b[38;5;241m0\u001b[39m)\n\u001b[0;32m     41\u001b[0m     action \u001b[38;5;241m=\u001b[39m policy(tf_prev_state, ou_noise)\n\u001b[0;32m     42\u001b[0m     \u001b[38;5;66;03m#print(action)\u001b[39;00m\n\u001b[0;32m     43\u001b[0m     \u001b[38;5;66;03m# Action List\u001b[39;00m\n",
      "File \u001b[1;32m~\\anaconda3\\envs\\tf-gpu-new\\lib\\site-packages\\tensorflow\\python\\util\\traceback_utils.py:150\u001b[0m, in \u001b[0;36mfilter_traceback.<locals>.error_handler\u001b[1;34m(*args, **kwargs)\u001b[0m\n\u001b[0;32m    148\u001b[0m filtered_tb \u001b[38;5;241m=\u001b[39m \u001b[38;5;28;01mNone\u001b[39;00m\n\u001b[0;32m    149\u001b[0m \u001b[38;5;28;01mtry\u001b[39;00m:\n\u001b[1;32m--> 150\u001b[0m   \u001b[38;5;28;01mreturn\u001b[39;00m fn(\u001b[38;5;241m*\u001b[39margs, \u001b[38;5;241m*\u001b[39m\u001b[38;5;241m*\u001b[39mkwargs)\n\u001b[0;32m    151\u001b[0m \u001b[38;5;28;01mexcept\u001b[39;00m \u001b[38;5;167;01mException\u001b[39;00m \u001b[38;5;28;01mas\u001b[39;00m e:\n\u001b[0;32m    152\u001b[0m   filtered_tb \u001b[38;5;241m=\u001b[39m _process_traceback_frames(e\u001b[38;5;241m.\u001b[39m__traceback__)\n",
      "File \u001b[1;32m~\\anaconda3\\envs\\tf-gpu-new\\lib\\site-packages\\tensorflow\\python\\util\\dispatch.py:1082\u001b[0m, in \u001b[0;36madd_dispatch_support.<locals>.decorator.<locals>.op_dispatch_handler\u001b[1;34m(*args, **kwargs)\u001b[0m\n\u001b[0;32m   1080\u001b[0m \u001b[38;5;66;03m# Fallback dispatch system (dispatch v1):\u001b[39;00m\n\u001b[0;32m   1081\u001b[0m \u001b[38;5;28;01mtry\u001b[39;00m:\n\u001b[1;32m-> 1082\u001b[0m   \u001b[38;5;28;01mreturn\u001b[39;00m dispatch_target(\u001b[38;5;241m*\u001b[39margs, \u001b[38;5;241m*\u001b[39m\u001b[38;5;241m*\u001b[39mkwargs)\n\u001b[0;32m   1083\u001b[0m \u001b[38;5;28;01mexcept\u001b[39;00m (\u001b[38;5;167;01mTypeError\u001b[39;00m, \u001b[38;5;167;01mValueError\u001b[39;00m):\n\u001b[0;32m   1084\u001b[0m   \u001b[38;5;66;03m# Note: convert_to_eager_tensor currently raises a ValueError, not a\u001b[39;00m\n\u001b[0;32m   1085\u001b[0m   \u001b[38;5;66;03m# TypeError, when given unexpected types.  So we need to catch both.\u001b[39;00m\n\u001b[0;32m   1086\u001b[0m   result \u001b[38;5;241m=\u001b[39m dispatch(op_dispatch_handler, args, kwargs)\n",
      "File \u001b[1;32m~\\anaconda3\\envs\\tf-gpu-new\\lib\\site-packages\\tensorflow\\python\\framework\\ops.py:1494\u001b[0m, in \u001b[0;36mconvert_to_tensor_v2_with_dispatch\u001b[1;34m(value, dtype, dtype_hint, name)\u001b[0m\n\u001b[0;32m   1430\u001b[0m \u001b[38;5;129m@tf_export\u001b[39m(\u001b[38;5;124m\"\u001b[39m\u001b[38;5;124mconvert_to_tensor\u001b[39m\u001b[38;5;124m\"\u001b[39m, v1\u001b[38;5;241m=\u001b[39m[])\n\u001b[0;32m   1431\u001b[0m \u001b[38;5;129m@dispatch\u001b[39m\u001b[38;5;241m.\u001b[39madd_dispatch_support\n\u001b[0;32m   1432\u001b[0m \u001b[38;5;28;01mdef\u001b[39;00m \u001b[38;5;21mconvert_to_tensor_v2_with_dispatch\u001b[39m(\n\u001b[0;32m   1433\u001b[0m     value, dtype\u001b[38;5;241m=\u001b[39m\u001b[38;5;28;01mNone\u001b[39;00m, dtype_hint\u001b[38;5;241m=\u001b[39m\u001b[38;5;28;01mNone\u001b[39;00m, name\u001b[38;5;241m=\u001b[39m\u001b[38;5;28;01mNone\u001b[39;00m):\n\u001b[0;32m   1434\u001b[0m   \u001b[38;5;124;03m\"\"\"Converts the given `value` to a `Tensor`.\u001b[39;00m\n\u001b[0;32m   1435\u001b[0m \n\u001b[0;32m   1436\u001b[0m \u001b[38;5;124;03m  This function converts Python objects of various types to `Tensor`\u001b[39;00m\n\u001b[1;32m   (...)\u001b[0m\n\u001b[0;32m   1492\u001b[0m \u001b[38;5;124;03m    ValueError: If the `value` is a tensor not of given `dtype` in graph mode.\u001b[39;00m\n\u001b[0;32m   1493\u001b[0m \u001b[38;5;124;03m  \"\"\"\u001b[39;00m\n\u001b[1;32m-> 1494\u001b[0m   \u001b[38;5;28;01mreturn\u001b[39;00m \u001b[43mconvert_to_tensor_v2\u001b[49m\u001b[43m(\u001b[49m\n\u001b[0;32m   1495\u001b[0m \u001b[43m      \u001b[49m\u001b[43mvalue\u001b[49m\u001b[43m,\u001b[49m\u001b[43m \u001b[49m\u001b[43mdtype\u001b[49m\u001b[38;5;241;43m=\u001b[39;49m\u001b[43mdtype\u001b[49m\u001b[43m,\u001b[49m\u001b[43m \u001b[49m\u001b[43mdtype_hint\u001b[49m\u001b[38;5;241;43m=\u001b[39;49m\u001b[43mdtype_hint\u001b[49m\u001b[43m,\u001b[49m\u001b[43m \u001b[49m\u001b[43mname\u001b[49m\u001b[38;5;241;43m=\u001b[39;49m\u001b[43mname\u001b[49m\u001b[43m)\u001b[49m\n",
      "File \u001b[1;32m~\\anaconda3\\envs\\tf-gpu-new\\lib\\site-packages\\tensorflow\\python\\framework\\ops.py:1500\u001b[0m, in \u001b[0;36mconvert_to_tensor_v2\u001b[1;34m(value, dtype, dtype_hint, name)\u001b[0m\n\u001b[0;32m   1498\u001b[0m \u001b[38;5;28;01mdef\u001b[39;00m \u001b[38;5;21mconvert_to_tensor_v2\u001b[39m(value, dtype\u001b[38;5;241m=\u001b[39m\u001b[38;5;28;01mNone\u001b[39;00m, dtype_hint\u001b[38;5;241m=\u001b[39m\u001b[38;5;28;01mNone\u001b[39;00m, name\u001b[38;5;241m=\u001b[39m\u001b[38;5;28;01mNone\u001b[39;00m):\n\u001b[0;32m   1499\u001b[0m   \u001b[38;5;124;03m\"\"\"Converts the given `value` to a `Tensor`.\"\"\"\u001b[39;00m\n\u001b[1;32m-> 1500\u001b[0m   \u001b[38;5;28;01mreturn\u001b[39;00m \u001b[43mconvert_to_tensor\u001b[49m\u001b[43m(\u001b[49m\n\u001b[0;32m   1501\u001b[0m \u001b[43m      \u001b[49m\u001b[43mvalue\u001b[49m\u001b[38;5;241;43m=\u001b[39;49m\u001b[43mvalue\u001b[49m\u001b[43m,\u001b[49m\n\u001b[0;32m   1502\u001b[0m \u001b[43m      \u001b[49m\u001b[43mdtype\u001b[49m\u001b[38;5;241;43m=\u001b[39;49m\u001b[43mdtype\u001b[49m\u001b[43m,\u001b[49m\n\u001b[0;32m   1503\u001b[0m \u001b[43m      \u001b[49m\u001b[43mname\u001b[49m\u001b[38;5;241;43m=\u001b[39;49m\u001b[43mname\u001b[49m\u001b[43m,\u001b[49m\n\u001b[0;32m   1504\u001b[0m \u001b[43m      \u001b[49m\u001b[43mpreferred_dtype\u001b[49m\u001b[38;5;241;43m=\u001b[39;49m\u001b[43mdtype_hint\u001b[49m\u001b[43m,\u001b[49m\n\u001b[0;32m   1505\u001b[0m \u001b[43m      \u001b[49m\u001b[43mas_ref\u001b[49m\u001b[38;5;241;43m=\u001b[39;49m\u001b[38;5;28;43;01mFalse\u001b[39;49;00m\u001b[43m)\u001b[49m\n",
      "File \u001b[1;32m~\\anaconda3\\envs\\tf-gpu-new\\lib\\site-packages\\tensorflow\\python\\profiler\\trace.py:183\u001b[0m, in \u001b[0;36mtrace_wrapper.<locals>.inner_wrapper.<locals>.wrapped\u001b[1;34m(*args, **kwargs)\u001b[0m\n\u001b[0;32m    181\u001b[0m   \u001b[38;5;28;01mwith\u001b[39;00m Trace(trace_name, \u001b[38;5;241m*\u001b[39m\u001b[38;5;241m*\u001b[39mtrace_kwargs):\n\u001b[0;32m    182\u001b[0m     \u001b[38;5;28;01mreturn\u001b[39;00m func(\u001b[38;5;241m*\u001b[39margs, \u001b[38;5;241m*\u001b[39m\u001b[38;5;241m*\u001b[39mkwargs)\n\u001b[1;32m--> 183\u001b[0m \u001b[38;5;28;01mreturn\u001b[39;00m func(\u001b[38;5;241m*\u001b[39margs, \u001b[38;5;241m*\u001b[39m\u001b[38;5;241m*\u001b[39mkwargs)\n",
      "File \u001b[1;32m~\\anaconda3\\envs\\tf-gpu-new\\lib\\site-packages\\tensorflow\\python\\framework\\ops.py:1640\u001b[0m, in \u001b[0;36mconvert_to_tensor\u001b[1;34m(value, dtype, name, as_ref, preferred_dtype, dtype_hint, ctx, accepted_result_types)\u001b[0m\n\u001b[0;32m   1631\u001b[0m       \u001b[38;5;28;01mraise\u001b[39;00m \u001b[38;5;167;01mRuntimeError\u001b[39;00m(\n\u001b[0;32m   1632\u001b[0m           _add_error_prefix(\n\u001b[0;32m   1633\u001b[0m               \u001b[38;5;124mf\u001b[39m\u001b[38;5;124m\"\u001b[39m\u001b[38;5;124mConversion function \u001b[39m\u001b[38;5;132;01m{\u001b[39;00mconversion_func\u001b[38;5;132;01m!r}\u001b[39;00m\u001b[38;5;124m for type \u001b[39m\u001b[38;5;124m\"\u001b[39m\n\u001b[1;32m   (...)\u001b[0m\n\u001b[0;32m   1636\u001b[0m               \u001b[38;5;124mf\u001b[39m\u001b[38;5;124m\"\u001b[39m\u001b[38;5;124mactual = \u001b[39m\u001b[38;5;132;01m{\u001b[39;00mret\u001b[38;5;241m.\u001b[39mdtype\u001b[38;5;241m.\u001b[39mbase_dtype\u001b[38;5;241m.\u001b[39mname\u001b[38;5;132;01m}\u001b[39;00m\u001b[38;5;124m\"\u001b[39m,\n\u001b[0;32m   1637\u001b[0m               name\u001b[38;5;241m=\u001b[39mname))\n\u001b[0;32m   1639\u001b[0m \u001b[38;5;28;01mif\u001b[39;00m ret \u001b[38;5;129;01mis\u001b[39;00m \u001b[38;5;28;01mNone\u001b[39;00m:\n\u001b[1;32m-> 1640\u001b[0m   ret \u001b[38;5;241m=\u001b[39m \u001b[43mconversion_func\u001b[49m\u001b[43m(\u001b[49m\u001b[43mvalue\u001b[49m\u001b[43m,\u001b[49m\u001b[43m \u001b[49m\u001b[43mdtype\u001b[49m\u001b[38;5;241;43m=\u001b[39;49m\u001b[43mdtype\u001b[49m\u001b[43m,\u001b[49m\u001b[43m \u001b[49m\u001b[43mname\u001b[49m\u001b[38;5;241;43m=\u001b[39;49m\u001b[43mname\u001b[49m\u001b[43m,\u001b[49m\u001b[43m \u001b[49m\u001b[43mas_ref\u001b[49m\u001b[38;5;241;43m=\u001b[39;49m\u001b[43mas_ref\u001b[49m\u001b[43m)\u001b[49m\n\u001b[0;32m   1642\u001b[0m \u001b[38;5;28;01mif\u001b[39;00m ret \u001b[38;5;129;01mis\u001b[39;00m \u001b[38;5;28mNotImplemented\u001b[39m:\n\u001b[0;32m   1643\u001b[0m   \u001b[38;5;28;01mcontinue\u001b[39;00m\n",
      "File \u001b[1;32m~\\anaconda3\\envs\\tf-gpu-new\\lib\\site-packages\\tensorflow\\python\\framework\\tensor_conversion_registry.py:48\u001b[0m, in \u001b[0;36m_default_conversion_function\u001b[1;34m(***failed resolving arguments***)\u001b[0m\n\u001b[0;32m     46\u001b[0m \u001b[38;5;28;01mdef\u001b[39;00m \u001b[38;5;21m_default_conversion_function\u001b[39m(value, dtype, name, as_ref):\n\u001b[0;32m     47\u001b[0m   \u001b[38;5;28;01mdel\u001b[39;00m as_ref  \u001b[38;5;66;03m# Unused.\u001b[39;00m\n\u001b[1;32m---> 48\u001b[0m   \u001b[38;5;28;01mreturn\u001b[39;00m \u001b[43mconstant_op\u001b[49m\u001b[38;5;241;43m.\u001b[39;49m\u001b[43mconstant\u001b[49m\u001b[43m(\u001b[49m\u001b[43mvalue\u001b[49m\u001b[43m,\u001b[49m\u001b[43m \u001b[49m\u001b[43mdtype\u001b[49m\u001b[43m,\u001b[49m\u001b[43m \u001b[49m\u001b[43mname\u001b[49m\u001b[38;5;241;43m=\u001b[39;49m\u001b[43mname\u001b[49m\u001b[43m)\u001b[49m\n",
      "File \u001b[1;32m~\\anaconda3\\envs\\tf-gpu-new\\lib\\site-packages\\tensorflow\\python\\framework\\constant_op.py:267\u001b[0m, in \u001b[0;36mconstant\u001b[1;34m(value, dtype, shape, name)\u001b[0m\n\u001b[0;32m    170\u001b[0m \u001b[38;5;129m@tf_export\u001b[39m(\u001b[38;5;124m\"\u001b[39m\u001b[38;5;124mconstant\u001b[39m\u001b[38;5;124m\"\u001b[39m, v1\u001b[38;5;241m=\u001b[39m[])\n\u001b[0;32m    171\u001b[0m \u001b[38;5;28;01mdef\u001b[39;00m \u001b[38;5;21mconstant\u001b[39m(value, dtype\u001b[38;5;241m=\u001b[39m\u001b[38;5;28;01mNone\u001b[39;00m, shape\u001b[38;5;241m=\u001b[39m\u001b[38;5;28;01mNone\u001b[39;00m, name\u001b[38;5;241m=\u001b[39m\u001b[38;5;124m\"\u001b[39m\u001b[38;5;124mConst\u001b[39m\u001b[38;5;124m\"\u001b[39m):\n\u001b[0;32m    172\u001b[0m   \u001b[38;5;124;03m\"\"\"Creates a constant tensor from a tensor-like object.\u001b[39;00m\n\u001b[0;32m    173\u001b[0m \n\u001b[0;32m    174\u001b[0m \u001b[38;5;124;03m  Note: All eager `tf.Tensor` values are immutable (in contrast to\u001b[39;00m\n\u001b[1;32m   (...)\u001b[0m\n\u001b[0;32m    265\u001b[0m \u001b[38;5;124;03m    ValueError: if called on a symbolic tensor.\u001b[39;00m\n\u001b[0;32m    266\u001b[0m \u001b[38;5;124;03m  \"\"\"\u001b[39;00m\n\u001b[1;32m--> 267\u001b[0m   \u001b[38;5;28;01mreturn\u001b[39;00m \u001b[43m_constant_impl\u001b[49m\u001b[43m(\u001b[49m\u001b[43mvalue\u001b[49m\u001b[43m,\u001b[49m\u001b[43m \u001b[49m\u001b[43mdtype\u001b[49m\u001b[43m,\u001b[49m\u001b[43m \u001b[49m\u001b[43mshape\u001b[49m\u001b[43m,\u001b[49m\u001b[43m \u001b[49m\u001b[43mname\u001b[49m\u001b[43m,\u001b[49m\u001b[43m \u001b[49m\u001b[43mverify_shape\u001b[49m\u001b[38;5;241;43m=\u001b[39;49m\u001b[38;5;28;43;01mFalse\u001b[39;49;00m\u001b[43m,\u001b[49m\n\u001b[0;32m    268\u001b[0m \u001b[43m                        \u001b[49m\u001b[43mallow_broadcast\u001b[49m\u001b[38;5;241;43m=\u001b[39;49m\u001b[38;5;28;43;01mTrue\u001b[39;49;00m\u001b[43m)\u001b[49m\n",
      "File \u001b[1;32m~\\anaconda3\\envs\\tf-gpu-new\\lib\\site-packages\\tensorflow\\python\\framework\\constant_op.py:279\u001b[0m, in \u001b[0;36m_constant_impl\u001b[1;34m(value, dtype, shape, name, verify_shape, allow_broadcast)\u001b[0m\n\u001b[0;32m    277\u001b[0m     \u001b[38;5;28;01mwith\u001b[39;00m trace\u001b[38;5;241m.\u001b[39mTrace(\u001b[38;5;124m\"\u001b[39m\u001b[38;5;124mtf.constant\u001b[39m\u001b[38;5;124m\"\u001b[39m):\n\u001b[0;32m    278\u001b[0m       \u001b[38;5;28;01mreturn\u001b[39;00m _constant_eager_impl(ctx, value, dtype, shape, verify_shape)\n\u001b[1;32m--> 279\u001b[0m   \u001b[38;5;28;01mreturn\u001b[39;00m \u001b[43m_constant_eager_impl\u001b[49m\u001b[43m(\u001b[49m\u001b[43mctx\u001b[49m\u001b[43m,\u001b[49m\u001b[43m \u001b[49m\u001b[43mvalue\u001b[49m\u001b[43m,\u001b[49m\u001b[43m \u001b[49m\u001b[43mdtype\u001b[49m\u001b[43m,\u001b[49m\u001b[43m \u001b[49m\u001b[43mshape\u001b[49m\u001b[43m,\u001b[49m\u001b[43m \u001b[49m\u001b[43mverify_shape\u001b[49m\u001b[43m)\u001b[49m\n\u001b[0;32m    281\u001b[0m g \u001b[38;5;241m=\u001b[39m ops\u001b[38;5;241m.\u001b[39mget_default_graph()\n\u001b[0;32m    282\u001b[0m tensor_value \u001b[38;5;241m=\u001b[39m attr_value_pb2\u001b[38;5;241m.\u001b[39mAttrValue()\n",
      "File \u001b[1;32m~\\anaconda3\\envs\\tf-gpu-new\\lib\\site-packages\\tensorflow\\python\\framework\\constant_op.py:304\u001b[0m, in \u001b[0;36m_constant_eager_impl\u001b[1;34m(ctx, value, dtype, shape, verify_shape)\u001b[0m\n\u001b[0;32m    302\u001b[0m \u001b[38;5;28;01mdef\u001b[39;00m \u001b[38;5;21m_constant_eager_impl\u001b[39m(ctx, value, dtype, shape, verify_shape):\n\u001b[0;32m    303\u001b[0m   \u001b[38;5;124;03m\"\"\"Creates a constant on the current device.\"\"\"\u001b[39;00m\n\u001b[1;32m--> 304\u001b[0m   t \u001b[38;5;241m=\u001b[39m \u001b[43mconvert_to_eager_tensor\u001b[49m\u001b[43m(\u001b[49m\u001b[43mvalue\u001b[49m\u001b[43m,\u001b[49m\u001b[43m \u001b[49m\u001b[43mctx\u001b[49m\u001b[43m,\u001b[49m\u001b[43m \u001b[49m\u001b[43mdtype\u001b[49m\u001b[43m)\u001b[49m\n\u001b[0;32m    305\u001b[0m   \u001b[38;5;28;01mif\u001b[39;00m shape \u001b[38;5;129;01mis\u001b[39;00m \u001b[38;5;28;01mNone\u001b[39;00m:\n\u001b[0;32m    306\u001b[0m     \u001b[38;5;28;01mreturn\u001b[39;00m t\n",
      "\u001b[1;31mKeyboardInterrupt\u001b[0m: "
     ]
    }
   ],
   "source": [
    "# Initial controller gain\n",
    "Bj = np.array(Bd @ (-1*Kp)) \n",
    "A1 = Ad.T + Bj.T \n",
    "P = dlyap(A1, -Q)\n",
    "K0 = P@Bj\n",
    "# P = np.array([[-5.60388195e+02,  1.85873971e+02, -3.35420000e+02, -5.03729674e+00],\n",
    "#                [ 1.85873971e+02, -2.01982759e+03,  4.26409397e+02, -3.23571106e+01],\n",
    "#                [-3.35420000e+02,  4.26409397e+02, -1.14986282e+04, -1.02322121e+02],\n",
    "#                [-5.03729674e+00, -3.23571106e+01, -1.02322121e+02, -4.55606248e+02]])\n",
    "# Bj  = np.array([[0,0,0,0], [0,0,0,0], [-0.49590136/env.M, 1.14546156/env.M, -35.69758159/env.M, 11.83173935/env.M], [0.49590136/env.m, -1.14546156/env.m, 35.69758159/env.m, -11.83173935/env.m]])  \n",
    "K = np.zeros([2*env.n, 2*env.n, total_episodes])\n",
    "K[0:2*env.n,0:2*env.n,0] = K0\n",
    "umin = 0.02\n",
    "umax = 1\n",
    "alpha = 6.0\n",
    "s = []  # number of tau_s\n",
    "\n",
    "# Reward list\n",
    "ep_reward_list = np.zeros([4000, 1, total_episodes])  \n",
    "ep_reward_list1 = []\n",
    "avg_reward_list = []\n",
    "\n",
    "#  Cost function \n",
    "ep_Jval_list = np.zeros([total_episodes, 1])\n",
    "\n",
    "#  Action and state \n",
    "ep_Action_list = np.zeros([4000, env.r, total_episodes])\n",
    "ep_State_list = np.zeros([4000, 2*env.n, total_episodes])\n",
    "ep_AdState_list = np.zeros([4000, 2*env.n, total_episodes])  # Adjoint state\n",
    "dj_dk = np.zeros([2*env.n, 2*env.n, total_episodes])  # Gradient\n",
    "\n",
    "for ep in range(0, total_episodes-1):\n",
    "    prev_state = env.reset()\n",
    "    episodic_reward = 0\n",
    "    env.K = K[0:2*env.n,0:2*env.n,ep]\n",
    "    nt = len(env.t)\n",
    "    #print(env.K)\n",
    "    for time in range(0,nt-10):\n",
    "        env.time_current = time\n",
    "        tf_prev_state = tf.expand_dims(tf.convert_to_tensor(prev_state), 0)\n",
    "        action = policy(tf_prev_state, ou_noise)\n",
    "        #print(action)\n",
    "        # Action List\n",
    "        state, reward, done, info = env.step(action)\n",
    "        #print(action)\n",
    "        buffer.record((prev_state, np.squeeze(action), reward, state))\n",
    "        episodic_reward += reward\n",
    "        # Reward list\n",
    "        buffer.learn()\n",
    "        update_target(target_actor.variables, actor_model.variables, tau)\n",
    "        update_target(target_critic.variables, critic_model.variables, tau)\n",
    "        prev_state = state\n",
    "        \n",
    "    ep_Action_list[0:nt, :, ep] = np.squeeze(env.U)\n",
    "    ep_State_list[0:nt, :, ep] = env.state\n",
    "    ep_reward_list[0:nt, :, ep] = env.Re\n",
    "    \n",
    "    ep_Jval_list[ep, :] = np.array([env.J_val])\n",
    "    ep_reward_list1.append(episodic_reward)\n",
    "    avg_reward = np.mean(ep_reward_list1[-40:])\n",
    "    avg_reward_list.append(avg_reward)\n",
    "    print(\"Episode * {} * Reward is ==> {} * J_value is ==> {}\".format(ep, episodic_reward, env.J_val))\n",
    "        \n",
    "\n",
    "    # Adjoint State \n",
    "    s.append([])\n",
    "    for time in range(0,nt-10):\n",
    "        i = nt-11-time\n",
    "        #print(i)\n",
    "        xn = np.array([ep_State_list[i,:,ep]]).T\n",
    "        val = ((xn.T)@env.K)@(xn)\n",
    "        #print(val)\n",
    "        if(val[0]==0):\n",
    "            pn = np.array([ep_AdState_list[i,:,ep]]).T\n",
    "            s[ep].append(i)\n",
    "            d_ptau = ((umin-umax)*((pn.T@ Bj)@xn))*((env.K + env.K.T)@xn)      #1*(1*1)*((n*n)@(n*1))  #############\n",
    "            #d_ptau = (d_ptau1[0,0]*xn)      #1*(1*1)*((n*n)@(n*1))  #############\n",
    "            #print(d_ptau)\n",
    "            pnb1 = pn + d_ptau  # (n*1)\n",
    "            ep_AdState_list[i-1,:,ep] = pnb1.T\n",
    "        else:\n",
    "            if(val[0] < 0.001 and val[0] > -0.001):\n",
    "                s[ep].append(i)\n",
    "            if(val[0]>=0):\n",
    "                va = umin\n",
    "            else:\n",
    "                va = umax\n",
    "            pn = np.array([ep_AdState_list[i,:,ep]]).T\n",
    "            F = env.Q@xn \n",
    "            S = -va*(Bj.T)\n",
    "            pnb1 = (-Ad.T @ pn) + (S @ pn) + (F)\n",
    "            ep_AdState_list[i-1,:,ep] = pnb1.T\n",
    "            #print(p[i-1,:,id]                      \n",
    "                                  \n",
    "            #F = env.Q@xn\n",
    "            #S = -va*(Bj.T)      \n",
    "            #k1 = -env.dt*(-env.A.T@pn + S@pn + F)             ##-G@pn-val*B.T@pn+Q@(e[id].T)\n",
    "            #k2 = -env.dt*(-env.A.T@(pn +0.5*k1)+ S@(pn +0.5*k1)+ F)\n",
    "            #k3 = -env.dt*(-env.A.T@(pn +0.5*k2)+ S@(pn +0.5*k2)+ F)\n",
    "            #k4 = -env.dt*(-env.A.T@(pn +k3)+ S@(pn +k3)+ F)\n",
    "            #pnb1 = pn + (k1 + 2*k2 + 2*k3 + k4)/6\n",
    "            \n",
    "            #print(p[i-1,:,id])\n",
    "        del xn, val, pn, pnb1, i\n",
    "    \n",
    "    # Evaluate dj/dk\n",
    "    sum = dj_dk[0:2*env.n,0:2*env.n,ep]\n",
    "    print(len(s[ep]))\n",
    "    if(len(s[ep])>0):\n",
    "        for j in s[ep]:\n",
    "            xn = np.array([ep_State_list[j,:,ep]]).T\n",
    "            pn = np.array([ep_AdState_list[j,:,ep]]).T\n",
    "            sum = sum +  -1*(umin-umax)*((pn.T@Bj)@xn)*(xn@xn.T)\n",
    "        #print(sum)\n",
    "        dj_dk[0:2*env.n,0:2*env.n,ep] = sum\n",
    "        # Update K \n",
    "        K[0:2*env.n,0:2*env.n,ep+1] = K[0:2*env.n,0:2*env.n,ep]  - alpha*dj_dk[0:2*env.n,0:2*env.n,ep]\n",
    "    else:\n",
    "        print(np.linalg.norm(dj_dk[0:2*env.n,0:2*env.n,ep]))\n",
    "    #break\n",
    "    \n",
    "plt.plot(avg_reward_list)\n",
    "plt.xlabel(\"Episode\")\n",
    "plt.ylabel(\"Avg. Epsiodic Reward\")\n",
    "plt.show()\n",
    "plt.plot(ep_reward_list)\n",
    "plt.xlabel(\"Episode\")\n",
    "plt.ylabel(\"Epsiodic Reward\")\n",
    "plt.show()\n",
    "\n",
    "np.savetxt(\"8_story_PG_nonlinear.txt\",ep_reward_list.flatten())\n",
    "np.savetxt(\"8_story_PG_avg_nonlinear.txt\",avg_reward_list.flatten())\n",
    "\n",
    "# Save the weights\n",
    "# actor_model.save_weights(\"8story_actor_DDPG_PG.h5\")\n",
    "# critic_model.save_weights(\"8story_critic_DDPG_PG.h5\")\n",
    "\n",
    "# target_actor.save_weights(\"8story_target_actor_DDPG_PG.h5\")\n",
    "# target_critic.save_weights(\"8story_target_critic_DDPG_PG.h5\")\n",
    "    "
   ]
  },
  {
   "cell_type": "code",
   "execution_count": 26,
   "metadata": {},
   "outputs": [],
   "source": [
    "np.savetxt(\"8_story_PG_nonlinear.txt\",ep_reward_list.flatten())\n",
    "np.savetxt(\"8_story_PG_avg_nonlinear.txt\",avg_reward_list)\n",
    "np.savetxt(\"8story_PG_ep_Jval_list_PG.txt\",ep_Jval_list)\n",
    "np.save('8story_PG_ep_Action_list_PG.npy', ep_Action_list)\n",
    "np.save('8story_PG_ep_State_list_PG.npy', ep_State_list)\n",
    "np.save('8story_PG_ep_reward_list_PG.npy', ep_reward_list) "
   ]
  },
  {
   "cell_type": "code",
   "execution_count": 27,
   "metadata": {},
   "outputs": [],
   "source": [
    "# Save the weights\n",
    "# Save the weights\n",
    "actor_model.save_weights(\"8story_actor_DDPG_PG_G0p0001T0p9_N.h5\")\n",
    "critic_model.save_weights(\"8story_critic_DDPG_PG_G0p0001T0p9_N.h5\")\n",
    "\n",
    "target_actor.save_weights(\"8story_target_actor_DDPG_G0p0001T0p9_N.h5\")\n",
    "target_critic.save_weights(\"8story_target_critic_DDPG_G0p0001T0p9_N.h5\")"
   ]
  },
  {
   "cell_type": "code",
   "execution_count": null,
   "metadata": {},
   "outputs": [],
   "source": [
    "plt.plot(avg_reward_list)\n",
    "np.save('Reward_DDPG_VW.npy', avg_reward_list)"
   ]
  },
  {
   "cell_type": "code",
   "execution_count": null,
   "metadata": {},
   "outputs": [],
   "source": [
    "DS['zmean'][0]=0\n",
    "plt.rcParams[\"font.family\"] = \"Times New Roman\"\n",
    "plt.rcParams['font.size'] = 24\n",
    "\n",
    "figure1=plt.figure(figsize = (12, 2))\n",
    "xr = np.array(range(len(D[1,:])))\n",
    "plt.stem(xr,DS['zmean'], use_line_collection = True, linefmt='blue', basefmt=\"k\")\n",
    "plt.axhline(y= 0.5, color='r', linestyle='-.')\n",
    "plt.ylabel('PIP', fontweight='bold');\n",
    "plt.title('(c) Third dof', fontweight='bold',fontsize=24)\n",
    "plt.grid(True); plt.ylim(0,1.05)\n",
    "plt.xticks(fontweight='bold'); plt.yticks(fontweight='bold');\n",
    "figure1.savefig('TMD_drift3.pdf',format='pdf',dpi=600,bbox_inches='tight')"
   ]
  },
  {
   "cell_type": "code",
   "execution_count": null,
   "metadata": {},
   "outputs": [],
   "source": [
    "plt.plot(ep_State_list[0:nt, 0, 992])\n",
    "np.save('Disp0_DDPG_PG_CW.npy', ep_State_list[0:nt, 0, 992])\n",
    "np.save('Disp7_DDPG_PG_CW.npy', ep_State_list[0:nt, 7, 992])\n",
    "np.save('Vel0_DDPG_PG_CW.npy', ep_State_list[0:nt, 8, 992])\n",
    "np.save('Vel7_DDPG_PG_CW.npy', ep_State_list[0:nt, 15, 992])"
   ]
  },
  {
   "cell_type": "code",
   "execution_count": 17,
   "metadata": {
    "id": "qBLoz00yDNNe"
   },
   "outputs": [
    {
     "ename": "NameError",
     "evalue": "name 'actor_model' is not defined",
     "output_type": "error",
     "traceback": [
      "\u001b[1;31m---------------------------------------------------------------------------\u001b[0m",
      "\u001b[1;31mNameError\u001b[0m                                 Traceback (most recent call last)",
      "Cell \u001b[1;32mIn[17], line 1\u001b[0m\n\u001b[1;32m----> 1\u001b[0m \u001b[38;5;28;01mdel\u001b[39;00m actor_model \n\u001b[0;32m      2\u001b[0m \u001b[38;5;28;01mdel\u001b[39;00m critic_model\n\u001b[0;32m      4\u001b[0m \u001b[38;5;28;01mdel\u001b[39;00m target_actor \n",
      "\u001b[1;31mNameError\u001b[0m: name 'actor_model' is not defined"
     ]
    }
   ],
   "source": [
    "del actor_model \n",
    "del critic_model\n",
    "\n",
    "del target_actor \n",
    "del target_critic \n",
    "del policy"
   ]
  },
  {
   "cell_type": "code",
   "execution_count": 18,
   "metadata": {},
   "outputs": [],
   "source": [
    "actor_model = get_actor()\n",
    "critic_model = get_critic()\n",
    "\n",
    "target_actor = get_actor()\n",
    "target_critic = get_critic()\n",
    "def policy(state):\n",
    "    sampled_actions = tf.squeeze(target_actor(state))\n",
    "\n",
    "    sampled_actions = sampled_actions.numpy() \n",
    "    legal_action = np.clip(sampled_actions, lower_bound, upper_bound)\n",
    "\n",
    "    return [np.squeeze(legal_action)]"
   ]
  },
  {
   "cell_type": "code",
   "execution_count": 19,
   "metadata": {
    "id": "LsYJq9TyDRNi"
   },
   "outputs": [],
   "source": [
    "  \n",
    "\n",
    "target_actor.save_weights(\"8story_target_actor_DDPG_G0p0001T0p9_N.h5\")\n",
    " "
   ]
  },
  {
   "cell_type": "code",
   "execution_count": 20,
   "metadata": {
    "id": "E6iRxvCNDx38"
   },
   "outputs": [
    {
     "name": "stdout",
     "output_type": "stream",
     "text": [
      "la01.dat\n",
      "Episode * 999 * J_value is ==> [[0.58944287]]\n",
      "la02.dat\n",
      "Episode * 999 * J_value is ==> [[13.68547046]]\n",
      "la07.dat\n",
      "Episode * 999 * J_value is ==> [[3.70205838]]\n",
      "la08.dat\n",
      "Episode * 999 * J_value is ==> [[0.48785027]]\n",
      "la09.dat\n",
      "Episode * 999 * J_value is ==> [[0.22451279]]\n",
      "la10.dat\n",
      "Episode * 999 * J_value is ==> [[0.26855862]]\n",
      "la11.dat\n",
      "Episode * 999 * J_value is ==> [[0.653014]]\n",
      "la12.dat\n",
      "Episode * 999 * J_value is ==> [[3.29457086]]\n",
      "la13.dat\n",
      "Episode * 999 * J_value is ==> [[11.73330968]]\n",
      "la14.dat\n",
      "Episode * 999 * J_value is ==> [[50.41842954]]\n"
     ]
    }
   ],
   "source": [
    "# Time series analysis\n",
    "xd = np.zeros((4000,2*n,10))\n",
    "yd = np.zeros((4000,n,10))\n",
    "Action = np.zeros([4000, r, 10])\n",
    "Action1 = np.zeros([4000, r, 10])\n",
    "Ed = np.zeros([4000, 1, 10])\n",
    "\n",
    "GM = np.array([1, 2, 7, 8, 9, 10, 11, 12, 13, 14])\n",
    "GMdt = np.loadtxt('GMdt.txt', unpack = True)\n",
    "ep = 1000-1\n",
    "for i in range(0, 10):\n",
    "    prev_state = env.reset()\n",
    "    if GM[i] < 10:\n",
    "        f = \"la\"+\"%02d\" % GM[i]  + \".dat\"\n",
    "    else:\n",
    "        f = \"la\"+\"%02d\" % GM[i]  + \".dat\"\n",
    "    print(f)\n",
    "    xacc = (np.array(np.loadtxt(f)).flatten())/100\n",
    "    # Time series for ground motion\n",
    " \n",
    "    dt = GMdt[GM[i]-1]\n",
    "    env.dt = dt\n",
    "    #print(dt)\n",
    "    tend = dt*len(xacc)\n",
    "    t = np.arange(0, tend, dt)\n",
    "    env.t = t\n",
    "    #plt.figure()\n",
    "    #plt.plot(t,xacc)\n",
    "    env.xacc = xacc\n",
    "    episodic_reward = 0\n",
    "    nt = len(env.t)\n",
    "    env.time_current = 0\n",
    "    env.state = np.zeros([nt, 2*env.n]) # states (ys,ysdot,yt,ytdot)\n",
    "    env.U = np.zeros([nt, env.r]) # Control force (action)\n",
    "    env.Re = np.zeros([nt, 1]) # Reward\n",
    "    env.Volt = np.zeros([nt, 1])\n",
    "    for time in range(0,nt-10):\n",
    "        \n",
    "        env.time_current = time\n",
    "        tf_prev_state = tf.expand_dims(tf.convert_to_tensor(prev_state), 0)\n",
    "        action = policy(tf_prev_state)\n",
    "        #print(action)\n",
    "        # Action List\n",
    "        state, reward, done, info = env.step(action)\n",
    "        #print(action)\n",
    "        episodic_reward += reward\n",
    "        # Reward list\n",
    "        prev_state = state\n",
    "        \n",
    "    #print(\"Episode * {} * Reward is ==> {}\".format(ep, episodic_reward))\n",
    "    print(\"Episode * {} * J_value is ==> {}\".format(ep, env.J_val)) \n",
    "    xd[0:nt, :, i] = env.state\n",
    "    Action[0:nt, :, i] = np.squeeze(env.U)\n",
    "  \n",
    "    for tkk in range(0,nt-1):\n",
    "        En1 = 0.5*((np.array([xd[tkk, :, i]]) @ Q)@ (np.array([xd[tkk, :, i]])).T)\n",
    "        Ed[tkk,:,i] = En1\n",
    "        u1 = (-1*Kp)@np.array([xd[tkk, :, i]]).T\n",
    "        Action1[tkk, :, i] = u1.T\n",
    "        y1 = (Cd @ np.array([xd[tkk,:,i]]).T) + (Dd@np.array([Action[tkk, :, i]]).T)\n",
    "        yd[tkk, :, i] = y1[0:8].T"
   ]
  },
  {
   "cell_type": "code",
   "execution_count": 21,
   "metadata": {
    "id": "NPkcwuzMFfvo"
   },
   "outputs": [
    {
     "data": {
      "text/plain": [
       "<matplotlib.legend.Legend at 0x2210ff1a6d0>"
      ]
     },
     "execution_count": 21,
     "metadata": {},
     "output_type": "execute_result"
    },
    {
     "data": {
      "image/png": "[encoded data removed]",
      "text/plain": [
       "<Figure size 640x480 with 1 Axes>"
      ]
     },
     "metadata": {},
     "output_type": "display_data"
    },
    {
     "data": {
      "image/png": "[encoded data removed]",
      "text/plain": [
       "<Figure size 640x480 with 1 Axes>"
      ]
     },
     "metadata": {},
     "output_type": "display_data"
    },
    {
     "data": {
      "image/png": "[encoded data removed]",
      "text/plain": [
       "<Figure size 640x480 with 1 Axes>"
      ]
     },
     "metadata": {},
     "output_type": "display_data"
    },
    {
     "data": {
      "image/png": "[encoded data removed]",
      "text/plain": [
       "<Figure size 640x480 with 1 Axes>"
      ]
     },
     "metadata": {},
     "output_type": "display_data"
    }
   ],
   "source": [
    "#  Control force\n",
    "plt.figure()\n",
    "plt.plot(xd[:,0, 0],'g',label='DDPG+PGSA')\n",
    "plt.legend()\n",
    "\n",
    "plt.figure()\n",
    "plt.plot(xd[:,7, 0],'g',label='DDPG+PGSA')\n",
    "plt.legend()\n",
    "\n",
    "plt.figure()\n",
    "plt.plot(xd[:,0, 4],'g',label='DDPG+PGSA')\n",
    "plt.legend()\n",
    "\n",
    "plt.figure()\n",
    "plt.plot(xd[:,7, 4],'g',label='DDPG+PGSA')\n",
    "plt.legend()\n"
   ]
  },
  {
   "cell_type": "code",
   "execution_count": 22,
   "metadata": {
    "id": "1mIEJubpFf4Y"
   },
   "outputs": [
    {
     "data": {
      "text/plain": [
       "<matplotlib.legend.Legend at 0x221205b2820>"
      ]
     },
     "execution_count": 22,
     "metadata": {},
     "output_type": "execute_result"
    },
    {
     "data": {
      "image/png": "[encoded data removed]",
      "text/plain": [
       "<Figure size 640x480 with 1 Axes>"
      ]
     },
     "metadata": {},
     "output_type": "display_data"
    },
    {
     "data": {
      "image/png": "[encoded data removed]",
      "text/plain": [
       "<Figure size 640x480 with 1 Axes>"
      ]
     },
     "metadata": {},
     "output_type": "display_data"
    },
    {
     "data": {
      "image/png": "[encoded data removed]",
      "text/plain": [
       "<Figure size 640x480 with 1 Axes>"
      ]
     },
     "metadata": {},
     "output_type": "display_data"
    },
    {
     "data": {
      "image/png": "[encoded data removed]",
      "text/plain": [
       "<Figure size 640x480 with 1 Axes>"
      ]
     },
     "metadata": {},
     "output_type": "display_data"
    }
   ],
   "source": [
    "#  Control force\n",
    "plt.figure()\n",
    "plt.plot(yd[:,0, 0],'g',label='DDPG+PGSA')\n",
    "plt.legend()\n",
    "\n",
    "plt.figure()\n",
    "plt.plot(yd[:,7, 0],'g',label='DDPG+PGSA')\n",
    "plt.legend()\n",
    "\n",
    "plt.figure()\n",
    "plt.plot(yd[:,0, 4],'g',label='DDPG+PGSA')\n",
    "plt.legend()\n",
    "\n",
    "plt.figure()\n",
    "plt.plot(yd[:,7, 4],'g',label='DDPG+PGSA')\n",
    "plt.legend()\n"
   ]
  },
  {
   "cell_type": "code",
   "execution_count": null,
   "metadata": {
    "id": "hkRfv0nfFgAx"
   },
   "outputs": [],
   "source": []
  },
  {
   "cell_type": "code",
   "execution_count": null,
   "metadata": {
    "id": "PZmjQjGBFgJL"
   },
   "outputs": [],
   "source": []
  },
  {
   "cell_type": "code",
   "execution_count": null,
   "metadata": {
    "id": "LQNbjk7uFge4"
   },
   "outputs": [],
   "source": []
  },
  {
   "cell_type": "code",
   "execution_count": null,
   "metadata": {
    "id": "AEdcFjRsGjzq"
   },
   "outputs": [],
   "source": []
  },
  {
   "cell_type": "code",
   "execution_count": null,
   "metadata": {
    "id": "47867afME9Nj"
   },
   "outputs": [],
   "source": []
  },
  {
   "cell_type": "code",
   "execution_count": null,
   "metadata": {
    "id": "zk5fiHzVFOOz"
   },
   "outputs": [],
   "source": []
  }
 ],
 "metadata": {
  "colab": {
   "provenance": []
  },
  "kernelspec": {
   "display_name": "Python 3 (ipykernel)",
   "language": "python",
   "name": "python3"
  },
  "language_info": {
   "codemirror_mode": {
    "name": "ipython",
    "version": 3
   },
   "file_extension": ".py",
   "mimetype": "text/x-python",
   "name": "python",
   "nbconvert_exporter": "python",
   "pygments_lexer": "ipython3",
   "version": "3.9.15"
  }
 },
 "nbformat": 4,
 "nbformat_minor": 1
}
